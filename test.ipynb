print("Python environment setup successful!")
